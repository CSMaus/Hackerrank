{
 "cells": [
  {
   "cell_type": "code",
   "execution_count": null,
   "id": "3252adf4",
   "metadata": {},
   "outputs": [],
   "source": []
  },
  {
   "cell_type": "code",
   "execution_count": 6,
   "id": "2bf8dde5",
   "metadata": {},
   "outputs": [
    {
     "name": "stdout",
     "output_type": "stream",
     "text": [
      "<itertools.permutations object at 0x000001D6EB7C8400>\n"
     ]
    }
   ],
   "source": [
    "# import itertools\n",
    "import numpy as np\n",
    "\n",
    "test_arr = [[0,0], [0,1], [1,1], [1,4], [2,2], [2,3], [3,2], [4,4]]\n",
    "# p = itertools.permutations(test_arr, 8)\n",
    "print(p)"
   ]
  },
  {
   "cell_type": "markdown",
   "id": "073b29ae",
   "metadata": {},
   "source": [
    "1. there are number of points N\n",
    "2. for each point as start calculate path as move always to closest poin. If there is 2 points in equal distance, move to those which will have less \"move actions\" for next 2 point (this and one next)\n",
    "3. from all this paths for each of N steps (from same point to same) choose the frequently appeared:\n",
    "i e,if for point \"0\" we have this arrays [0,1], [0, 5], [0, 2], [0, 3], [0, 1], [0, 2], [0, 2], then we will choose [0, 2]\n",
    "4. if they appear the same number of time choose the shortest one:\n",
    "i e [0. 1], [0, 4], [0, 5] , then choose the shortest way. this arrays [0, 1] etc will be keys, the value will be the number of actions\n"
   ]
  },
  {
   "cell_type": "code",
   "execution_count": 8,
   "id": "072a6dfa",
   "metadata": {},
   "outputs": [
    {
     "name": "stdout",
     "output_type": "stream",
     "text": [
      "[0, 1]\n"
     ]
    }
   ],
   "source": [
    "print(str([0, 1]))"
   ]
  },
  {
   "cell_type": "code",
   "execution_count": 9,
   "id": "1b9abe55",
   "metadata": {},
   "outputs": [
    {
     "name": "stdout",
     "output_type": "stream",
     "text": [
      "1\n"
     ]
    }
   ],
   "source": [
    "d = {str([0,1]): 1, str([0, 2]): 3}\n",
    "print(d[str([0,1])])"
   ]
  },
  {
   "cell_type": "code",
   "execution_count": 11,
   "id": "ca89f82e",
   "metadata": {},
   "outputs": [
    {
     "ename": "IndentationError",
     "evalue": "expected an indented block (2110151914.py, line 21)",
     "output_type": "error",
     "traceback": [
      "\u001b[1;36m  Input \u001b[1;32mIn [11]\u001b[1;36m\u001b[0m\n\u001b[1;33m    posr, posc = [int(i) for i in input().strip().split()]\u001b[0m\n\u001b[1;37m                                                          ^\u001b[0m\n\u001b[1;31mIndentationError\u001b[0m\u001b[1;31m:\u001b[0m expected an indented block\n"
     ]
    }
   ],
   "source": [
    "import numpy as np\n",
    "\n",
    "\n",
    "def next_move(posr, posc, board):\n",
    "    \n",
    "    board = np.array(board)\n",
    "    \n",
    "    # UP DOWN LEFT RIGHT CLEAN\n",
    "    if board[posr][posc] == 'd':\n",
    "        print(\"CLEAN\")\n",
    "    else:\n",
    "        dirty_cells = np.argwhere(board == 'd')\n",
    "        print(dirty_cells)\n",
    "        \n",
    "        poss = min([abs(posr - d[0]) + abs(posc - d[1]) for d in dirty_cells])\n",
    "        for d in dirty_cells:\n",
    "            \n",
    "\n",
    "\n",
    "if __name__ == \"__main__\":\n",
    "    posr, posc = [int(i) for i in input().strip().split()]\n",
    "    board = [input().strip() for _ in range(5)]\n",
    "\n",
    "    next_move(posr, posc, board)"
   ]
  },
  {
   "cell_type": "code",
   "execution_count": null,
   "id": "59a6d6a4",
   "metadata": {},
   "outputs": [],
   "source": []
  },
  {
   "cell_type": "code",
   "execution_count": null,
   "id": "29efcb89",
   "metadata": {},
   "outputs": [],
   "source": []
  },
  {
   "cell_type": "code",
   "execution_count": null,
   "id": "62e4dcbb",
   "metadata": {},
   "outputs": [],
   "source": []
  },
  {
   "cell_type": "code",
   "execution_count": null,
   "id": "71f9d78e",
   "metadata": {},
   "outputs": [],
   "source": []
  }
 ],
 "metadata": {
  "kernelspec": {
   "display_name": "Python 3 (ipykernel)",
   "language": "python",
   "name": "python3"
  },
  "language_info": {
   "codemirror_mode": {
    "name": "ipython",
    "version": 3
   },
   "file_extension": ".py",
   "mimetype": "text/x-python",
   "name": "python",
   "nbconvert_exporter": "python",
   "pygments_lexer": "ipython3",
   "version": "3.9.10"
  }
 },
 "nbformat": 4,
 "nbformat_minor": 5
}
